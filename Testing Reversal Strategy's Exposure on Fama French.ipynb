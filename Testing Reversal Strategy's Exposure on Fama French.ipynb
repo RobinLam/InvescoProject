{
 "cells": [
  {
   "cell_type": "code",
   "execution_count": 2,
   "metadata": {},
   "outputs": [],
   "source": [
    "import pandas as pd\n",
    "import numpy as np\n",
    "import datetime\n",
    "import math\n",
    "import quandl\n",
    "pd.set_option('display.max_columns', 500)"
   ]
  },
  {
   "cell_type": "markdown",
   "metadata": {},
   "source": [
    "## Read and Clean Data"
   ]
  },
  {
   "cell_type": "code",
   "execution_count": 10,
   "metadata": {},
   "outputs": [],
   "source": [
    "def remove_foreign_reit_adr():\n",
    "    '''\n",
    "    @author: Wuding Li\n",
    "    @The function returns a list of CUSIPs which not been filtered out\n",
    "    @Reference: The function get the REIT and Foreign Stock filter through the Quandl database\n",
    "    '''\n",
    "    quandl.ApiConfig.api_key = \"wJQ9TBnyt36w1a-dZjDg\"\n",
    "    CUSIPdic = quandl.get_table(\"SHARADAR/TICKERS\", paginate=True)\n",
    "    #get all domestic stock\n",
    "    domestic = CUSIPdic[CUSIPdic['category'] == 'Domestic']\n",
    "    #remove REIT\n",
    "    keep = domestic[domestic['sicindustry'] != 'Real Estate Investment Trusts']\n",
    "    #get CUSIP for all those keep ticker\n",
    "    keep_list = keep['cusips'].values.tolist()\n",
    "    #remove none in list\n",
    "    res = [i for i in keep_list if i] \n",
    "    #seperate by space\n",
    "    temp = \" \".join(res).split(' ')\n",
    "    #remove the last char in each elements to match CUSIP in dsf\n",
    "    output = [x[:-1] for x in temp]\n",
    "    return output"
   ]
  },
  {
   "cell_type": "code",
   "execution_count": null,
   "metadata": {},
   "outputs": [],
   "source": [
    "#read in crsp dsf data\n",
    "crsp = pd.read_csv('mydata_dsf.csv')\n",
    "#apply the first filter\n",
    "keep = remove_foreign_reit_adr()\n",
    "crsp = crsp[crsp['CUSIP'].isin(keep)]\n",
    "crsp['DATE'] =  pd.to_datetime(crsp['DATE'])"
   ]
  },
  {
   "cell_type": "markdown",
   "metadata": {},
   "source": [
    "### Apply more filters and remove missing data"
   ]
  },
  {
   "cell_type": "code",
   "execution_count": 130,
   "metadata": {},
   "outputs": [],
   "source": [
    "def check_closed_end_fund(data):\n",
    "    '''\n",
    "    @author: Wuding Li\n",
    "    @The function return a list of PERMNO with no closed end fund\n",
    "    @Variable: data: the input dataset\n",
    "    '''\n",
    "    \n",
    "    date = data['DATE'].values\n",
    "    s_date = [date[0],date[1],date[2]]\n",
    "    PERMNO_list_start = (data[data['DATE'].isin(s_date)])['PERMNO'].values.tolist()\n",
    "    \n",
    "    e_date = [date[-1],date[-2],date[-3]]\n",
    "    PERMNO_list_end = (data[data['DATE'].isin(e_date)])['PERMNO'].values.tolist()\n",
    "    \n",
    "    temp = set(PERMNO_list_end) \n",
    "    output = [value for value in PERMNO_list_start if value in temp] \n",
    "    \n",
    "    return output"
   ]
  },
  {
   "cell_type": "code",
   "execution_count": 13,
   "metadata": {},
   "outputs": [],
   "source": [
    "def check_more_than_5(data):\n",
    "    '''\n",
    "    @author: Wuding Li\n",
    "    @The function returns a list of PERMNO which it's price in larger than $5 in the sampling and testing period\n",
    "    @Variable: data: the input dataset\n",
    "    '''\n",
    "    mask = (data['PRC'] < 5)\n",
    "    output = list(set((data.loc[mask])['PERMNO'].values.tolist()))\n",
    "    return output"
   ]
  },
  {
   "cell_type": "code",
   "execution_count": 14,
   "metadata": {},
   "outputs": [],
   "source": [
    "def remove_missing(data):\n",
    "    '''\n",
    "    @author: Wuding Li\n",
    "    @The function returns a list of PERMMO that has missing values\n",
    "    @Variable: data: the input dataset\n",
    "    '''\n",
    "    return list(set(data[data.isnull().any(axis=1)]['PERMNO'].values))"
   ]
  },
  {
   "cell_type": "markdown",
   "metadata": {},
   "source": [
    "Above are all steps and functions for the raw dataset wrangling. The function{check_closed_end_fund}, function{check_more_than_5} and function{remove_missing} are called in the function{rolling_time_window} to save computational time and increase computation efficiency"
   ]
  },
  {
   "cell_type": "markdown",
   "metadata": {},
   "source": [
    "## Generating samples "
   ]
  },
  {
   "cell_type": "code",
   "execution_count": 104,
   "metadata": {
    "scrolled": true
   },
   "outputs": [],
   "source": [
    "def rolling_time_window(Start_Month, Start_Year, Time_Period_Training, Time_Period_Testing, Gap, data):\n",
    "    '''\n",
    "    @author: Wuding Li\n",
    "    @The function returns two cleaned datasets. One is the sampling period data and the other is testing period data\n",
    "    @variables: Start_Month: the starting month of our rolling time period\n",
    "                Start_Year: the starting year of our rolling time period\n",
    "                Time_Period_Training: Span of sampling Period\n",
    "                Time_Period_Testing: Span of testing Period\n",
    "                Gap: Gap between sampling and testing\n",
    "                Data: The input data dataset\n",
    "    @Also this function apply the filter no closed end fund and stock price more than 5 dollars\n",
    "    '''\n",
    "    \n",
    "    #get the start and end date of data\n",
    "    start_date_train = str(pd.date_range(start=str(Start_Month)+'/1/'+str(Start_Year), periods=1, freq='D')[0].date())\n",
    "    end_date_train = str(pd.date_range(start=str(Start_Month)+'/1/'+str(Start_Year), periods=2, freq=str(Time_Period_Training-1)+'M')[-1].date())\n",
    "    mask_train = (data['DATE'] >= start_date_train) & (data['DATE'] <= end_date_train)\n",
    "    \n",
    "    \n",
    "    start_month_testing = Start_Month+Time_Period_Training+Gap\n",
    "    start_year_testing = Start_Year + math.floor(start_month_testing/12)\n",
    "    start_month_testing = start_month_testing % 12    \n",
    "    start_date_test = str(pd.date_range(start=str(start_month_testing)+'/1/'+str(start_year_testing), periods=1, freq='D')[0].date())\n",
    "    end_date_test = str(pd.date_range(start=str(start_month_testing)+'/1/'+str(start_year_testing), periods=2, freq=str(Time_Period_Testing-1)+'M')[-1].date())\n",
    "    mask_test = (data['DATE'] >= start_date_test) & (data['DATE'] <= end_date_test)\n",
    "    \n",
    "    #applying filter functions below on the master dataset\n",
    "    mask_master = (data['DATE'] >= start_date_train) & (data['DATE'] <= end_date_test)\n",
    "    data_master = data.loc[mask_master]\n",
    "    \n",
    "    #check closed end fund\n",
    "    keep_list = check_closed_end_fund(data_master) \n",
    "    #check more than 5 and missing data\n",
    "    delete_list = check_more_than_5(data_master) + remove_missing(data_master)\n",
    "    \n",
    "    #comprehend both list\n",
    "    keep_list = [x for x in keep_list if x not in delete_list]\n",
    "    \n",
    "    data_master = data_master[data_master['PERMNO'].isin(keep_list)]\n",
    "    #remove strings in columns\n",
    "    data_master[['RET']] = data_master[['RET']].apply(pd.to_numeric, errors='coerce').fillna(0).astype(float).dropna()\n",
    "    data_master[['RETX']] = data_master[['RETX']].apply(pd.to_numeric, errors='coerce').fillna(0).astype(float).dropna()\n",
    "\n",
    "    \n",
    "    return data_master.loc[mask_train],data_master.loc[mask_test]"
   ]
  },
  {
   "cell_type": "code",
   "execution_count": 15,
   "metadata": {},
   "outputs": [],
   "source": [
    "def get_monthly_ret_dsf(data):\n",
    "    '''\n",
    "    @author: Wuding Li\n",
    "    @The function returns a dataset that convert daily return to monthly return\n",
    "    @Variable: data: the input dataset\n",
    "    '''\n",
    "    data['ret'] = data['RET'].astype(float).apply(lambda x: x+1)\n",
    "    data['YearMonth'] = data['DATE'].apply(lambda x:x.strftime('%Y-%m'))\n",
    "    temp = data.groupby(['PERMNO','YearMonth']).agg({'ret': 'prod',\n",
    "                                          'VOL': 'sum'}).reset_index()\n",
    "    temp['ret'] = temp['ret'] - 1\n",
    "    return temp"
   ]
  },
  {
   "cell_type": "markdown",
   "metadata": {},
   "source": [
    "## Test Fama French Factors' Exposure \n",
    "### Run regression"
   ]
  },
  {
   "cell_type": "code",
   "execution_count": 121,
   "metadata": {},
   "outputs": [],
   "source": [
    "def get_weight(data):\n",
    "    '''\n",
    "    @author: Wuding Li\n",
    "    @The function add a column to the data set that assigned the weight to each stock for each month\n",
    "    @Variable: data: the input dataset (Monthly data)                    \n",
    "    '''\n",
    "    count = len(set(data['PERMNO'].values))\n",
    "    data['weight']=data.groupby(['YearMonth'])['ret'].apply(lambda x: (x-x.mean())*(-1/count))\n",
    "    return data"
   ]
  },
  {
   "cell_type": "markdown",
   "metadata": {},
   "source": [
    "### check missing values"
   ]
  },
  {
   "cell_type": "code",
   "execution_count": 274,
   "metadata": {
    "scrolled": false
   },
   "outputs": [
    {
     "name": "stdout",
     "output_type": "stream",
     "text": [
      "percentage of missing data\n"
     ]
    },
    {
     "data": {
      "text/plain": [
       "[('PERMNO', 0.0),\n",
       " ('DATE', 0.0),\n",
       " ('CUSIP', 0.0),\n",
       " ('PRC', 0.0),\n",
       " ('VOL', 0.0),\n",
       " ('ASKHI', 0.0),\n",
       " ('BIDLO', 0.0),\n",
       " ('RET', 0.0),\n",
       " ('RETX', 0.0),\n",
       " ('YEAR', 0.0)]"
      ]
     },
     "execution_count": 274,
     "metadata": {},
     "output_type": "execute_result"
    }
   ],
   "source": [
    "#missing values check\n",
    "def percent_missing(df):\n",
    "    data = pd.DataFrame(df)\n",
    "    df_cols = list(pd.DataFrame(data))\n",
    "    dict_x = {}\n",
    "    for i in range(0,len(df_cols)):\n",
    "        dict_x.update({df_cols[i]: round(data[df_cols[i]].isnull().mean()*100,2)})\n",
    "    return dict_x\n",
    "#features = train.iloc[:,-1:-6]\n",
    "missing = percent_missing(train)\n",
    "df_missing = sorted(missing.items(), key = lambda x: x[1], reverse = True)\n",
    "print('percentage of missing data')\n",
    "df_missing[0:10]"
   ]
  },
  {
   "cell_type": "markdown",
   "metadata": {},
   "source": [
    "### create a sample to test"
   ]
  },
  {
   "cell_type": "code",
   "execution_count": null,
   "metadata": {},
   "outputs": [],
   "source": []
  }
 ],
 "metadata": {
  "kernelspec": {
   "display_name": "Python 3",
   "language": "python",
   "name": "python3"
  },
  "language_info": {
   "codemirror_mode": {
    "name": "ipython",
    "version": 3
   },
   "file_extension": ".py",
   "mimetype": "text/x-python",
   "name": "python",
   "nbconvert_exporter": "python",
   "pygments_lexer": "ipython3",
   "version": "3.6.5"
  }
 },
 "nbformat": 4,
 "nbformat_minor": 2
}
