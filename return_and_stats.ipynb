{
 "cells": [
  {
   "cell_type": "code",
   "execution_count": 2,
   "metadata": {},
   "outputs": [],
   "source": [
    "import pandas as pd\n",
    "import numpy as np\n",
    "pd.set_option('display.max_columns',500)\n",
    "import seaborn as sns\n",
    "import matplotlib.pyplot as plt\n",
    "import datetime as dt\n",
    "from datetime import timedelta\n",
    "from dateutil.relativedelta import relativedelta"
   ]
  },
  {
   "cell_type": "code",
   "execution_count": 39,
   "metadata": {},
   "outputs": [],
   "source": [
    "from scipy.stats.mstats import gmean\n",
    "from scipy import std\n",
    "import math"
   ]
  },
  {
   "cell_type": "markdown",
   "metadata": {},
   "source": [
    "## Evelyn's old method"
   ]
  },
  {
   "cell_type": "code",
   "execution_count": 92,
   "metadata": {},
   "outputs": [],
   "source": [
    "test = pd.read_csv('test_output.csv')\n",
    "test['date'] = test['date'].apply(lambda x: pd.to_datetime(str(x), format='%Y-%m-%d'))\n",
    "test['YearMonth_test'] = test['date'].astype(str).apply(lambda x: x[:4] + x[5:7])\n",
    "test['YearMonth_test'] = test['YearMonth_test'].apply(pd.to_numeric)\n",
    "test['YearMonth'] = test['date'].astype(str).apply(lambda x: x[:4] + x[5:7])\n",
    "test = test[['PERMNO','YearMonth','RET']]"
   ]
  },
  {
   "cell_type": "code",
   "execution_count": 93,
   "metadata": {},
   "outputs": [
    {
     "data": {
      "text/html": [
       "<div>\n",
       "<style scoped>\n",
       "    .dataframe tbody tr th:only-of-type {\n",
       "        vertical-align: middle;\n",
       "    }\n",
       "\n",
       "    .dataframe tbody tr th {\n",
       "        vertical-align: top;\n",
       "    }\n",
       "\n",
       "    .dataframe thead th {\n",
       "        text-align: right;\n",
       "    }\n",
       "</style>\n",
       "<table border=\"1\" class=\"dataframe\">\n",
       "  <thead>\n",
       "    <tr style=\"text-align: right;\">\n",
       "      <th></th>\n",
       "      <th>PERMNO</th>\n",
       "      <th>YearMonth</th>\n",
       "      <th>RET</th>\n",
       "    </tr>\n",
       "  </thead>\n",
       "  <tbody>\n",
       "    <tr>\n",
       "      <th>0</th>\n",
       "      <td>10030</td>\n",
       "      <td>192908</td>\n",
       "      <td>0.030568</td>\n",
       "    </tr>\n",
       "    <tr>\n",
       "      <th>1</th>\n",
       "      <td>10102</td>\n",
       "      <td>192908</td>\n",
       "      <td>0.223731</td>\n",
       "    </tr>\n",
       "    <tr>\n",
       "      <th>2</th>\n",
       "      <td>10137</td>\n",
       "      <td>192908</td>\n",
       "      <td>0.260185</td>\n",
       "    </tr>\n",
       "    <tr>\n",
       "      <th>3</th>\n",
       "      <td>10145</td>\n",
       "      <td>192908</td>\n",
       "      <td>0.123596</td>\n",
       "    </tr>\n",
       "    <tr>\n",
       "      <th>4</th>\n",
       "      <td>10196</td>\n",
       "      <td>192908</td>\n",
       "      <td>0.187726</td>\n",
       "    </tr>\n",
       "  </tbody>\n",
       "</table>\n",
       "</div>"
      ],
      "text/plain": [
       "   PERMNO YearMonth       RET\n",
       "0   10030    192908  0.030568\n",
       "1   10102    192908  0.223731\n",
       "2   10137    192908  0.260185\n",
       "3   10145    192908  0.123596\n",
       "4   10196    192908  0.187726"
      ]
     },
     "execution_count": 93,
     "metadata": {},
     "output_type": "execute_result"
    }
   ],
   "source": [
    "test.head()"
   ]
  },
  {
   "cell_type": "code",
   "execution_count": 94,
   "metadata": {},
   "outputs": [],
   "source": [
    "train = pd.read_csv('train_output.csv')\n",
    "train = train[['PERMNO','YearMonth','weight','residual_weight']]\n",
    "train['YearMonth'] = train['YearMonth'].apply(lambda x: pd.to_datetime(str(x), format='%Y%m'))\n",
    "train['YearMonth'] = train['YearMonth'].apply(lambda x: x + relativedelta(months=1))\n",
    "train['YearMonth'] = train['YearMonth'].astype(str).apply(lambda x: x[:4] + x[5:7])"
   ]
  },
  {
   "cell_type": "code",
   "execution_count": 95,
   "metadata": {
    "scrolled": true
   },
   "outputs": [
    {
     "data": {
      "text/html": [
       "<div>\n",
       "<style scoped>\n",
       "    .dataframe tbody tr th:only-of-type {\n",
       "        vertical-align: middle;\n",
       "    }\n",
       "\n",
       "    .dataframe tbody tr th {\n",
       "        vertical-align: top;\n",
       "    }\n",
       "\n",
       "    .dataframe thead th {\n",
       "        text-align: right;\n",
       "    }\n",
       "</style>\n",
       "<table border=\"1\" class=\"dataframe\">\n",
       "  <thead>\n",
       "    <tr style=\"text-align: right;\">\n",
       "      <th></th>\n",
       "      <th>PERMNO</th>\n",
       "      <th>YearMonth</th>\n",
       "      <th>weight</th>\n",
       "      <th>residual_weight</th>\n",
       "    </tr>\n",
       "  </thead>\n",
       "  <tbody>\n",
       "    <tr>\n",
       "      <th>0</th>\n",
       "      <td>12386</td>\n",
       "      <td>192908</td>\n",
       "      <td>0.010622</td>\n",
       "      <td>-0.043266</td>\n",
       "    </tr>\n",
       "    <tr>\n",
       "      <th>1</th>\n",
       "      <td>10030</td>\n",
       "      <td>192908</td>\n",
       "      <td>-0.002759</td>\n",
       "      <td>0.018422</td>\n",
       "    </tr>\n",
       "    <tr>\n",
       "      <th>2</th>\n",
       "      <td>13864</td>\n",
       "      <td>192908</td>\n",
       "      <td>0.005287</td>\n",
       "      <td>0.061555</td>\n",
       "    </tr>\n",
       "    <tr>\n",
       "      <th>3</th>\n",
       "      <td>11068</td>\n",
       "      <td>192908</td>\n",
       "      <td>-0.003037</td>\n",
       "      <td>-0.045861</td>\n",
       "    </tr>\n",
       "    <tr>\n",
       "      <th>4</th>\n",
       "      <td>10890</td>\n",
       "      <td>192908</td>\n",
       "      <td>-0.005067</td>\n",
       "      <td>-0.035998</td>\n",
       "    </tr>\n",
       "  </tbody>\n",
       "</table>\n",
       "</div>"
      ],
      "text/plain": [
       "   PERMNO YearMonth    weight  residual_weight\n",
       "0   12386    192908  0.010622        -0.043266\n",
       "1   10030    192908 -0.002759         0.018422\n",
       "2   13864    192908  0.005287         0.061555\n",
       "3   11068    192908 -0.003037        -0.045861\n",
       "4   10890    192908 -0.005067        -0.035998"
      ]
     },
     "execution_count": 95,
     "metadata": {},
     "output_type": "execute_result"
    }
   ],
   "source": [
    "train.head()"
   ]
  },
  {
   "cell_type": "code",
   "execution_count": 98,
   "metadata": {},
   "outputs": [],
   "source": [
    "combine = pd.merge(test, train, how='inner', on=['YearMonth','PERMNO'])"
   ]
  },
  {
   "cell_type": "code",
   "execution_count": null,
   "metadata": {},
   "outputs": [],
   "source": []
  },
  {
   "cell_type": "code",
   "execution_count": null,
   "metadata": {},
   "outputs": [],
   "source": []
  },
  {
   "cell_type": "code",
   "execution_count": 247,
   "metadata": {},
   "outputs": [],
   "source": [
    "combine = pd.read_csv('further_test_output.csv')"
   ]
  },
  {
   "cell_type": "code",
   "execution_count": 253,
   "metadata": {},
   "outputs": [
    {
     "name": "stderr",
     "output_type": "stream",
     "text": [
      "/Users/zhikang/anaconda3/lib/python3.7/site-packages/ipykernel_launcher.py:2: SettingWithCopyWarning: \n",
      "A value is trying to be set on a copy of a slice from a DataFrame.\n",
      "Try using .loc[row_indexer,col_indexer] = value instead\n",
      "\n",
      "See the caveats in the documentation: http://pandas.pydata.org/pandas-docs/stable/indexing.html#indexing-view-versus-copy\n",
      "  \n"
     ]
    }
   ],
   "source": [
    "loser_cob = combine[combine['residual_weight']<0]\n",
    "loser_cob['res_ret'] = loser_cob['residual_weight'] * loser_cob['RET'] * (-1)\n",
    "loser_cob = pd.DataFrame(loser_cob.groupby('YearMonth').sum(axis='res_ret')[\"res_ret\"])"
   ]
  },
  {
   "cell_type": "code",
   "execution_count": 255,
   "metadata": {},
   "outputs": [
    {
     "data": {
      "text/plain": [
       "0.014672135418317963"
      ]
     },
     "execution_count": 255,
     "metadata": {},
     "output_type": "execute_result"
    }
   ],
   "source": [
    "loser_cob['res_ret'].mean()"
   ]
  },
  {
   "cell_type": "code",
   "execution_count": 258,
   "metadata": {},
   "outputs": [
    {
     "name": "stderr",
     "output_type": "stream",
     "text": [
      "/Users/zhikang/anaconda3/lib/python3.7/site-packages/ipykernel_launcher.py:2: SettingWithCopyWarning: \n",
      "A value is trying to be set on a copy of a slice from a DataFrame.\n",
      "Try using .loc[row_indexer,col_indexer] = value instead\n",
      "\n",
      "See the caveats in the documentation: http://pandas.pydata.org/pandas-docs/stable/indexing.html#indexing-view-versus-copy\n",
      "  \n"
     ]
    }
   ],
   "source": [
    "winner_cob = combine[combine['residual_weight']>0]\n",
    "winner_cob['res_ret'] = winner_cob['residual_weight'] * winner_cob['RET'] *(-1)\n",
    "winner_cob = pd.DataFrame(winner_cob.groupby('YearMonth').sum(axis='res_ret')[\"res_ret\"])"
   ]
  },
  {
   "cell_type": "code",
   "execution_count": 259,
   "metadata": {},
   "outputs": [
    {
     "data": {
      "text/plain": [
       "-0.00533893200238549"
      ]
     },
     "execution_count": 259,
     "metadata": {},
     "output_type": "execute_result"
    }
   ],
   "source": [
    "winner_cob['res_ret'].mean()"
   ]
  },
  {
   "cell_type": "markdown",
   "metadata": {},
   "source": [
    "## Start from here"
   ]
  },
  {
   "cell_type": "code",
   "execution_count": 46,
   "metadata": {
    "scrolled": true
   },
   "outputs": [],
   "source": [
    "combine = pd.read_csv('further_test_output.csv')\n",
    "combine = combine.rename(columns = {\"conv_weight\": \"weight\"})\n",
    "combine['conv_ret'] = combine['RET']*combine['weight']\n",
    "combine['res_ret'] = combine['RET']*combine['residual_weight']\n",
    "portfolio_conventional_ret=pd.DataFrame(combine.groupby('YearMonth').sum(axis='conv_ret')[\"conv_ret\"])\n",
    "portfolio_residual_ret=pd.DataFrame(combine.groupby('YearMonth').sum(axis='res_ret')[\"res_ret\"])\n",
    "portfolio_conventional_ret = -1*portfolio_conventional_ret\n",
    "portfolio_residual_ret = -1* portfolio_residual_ret\n",
    "df = pd.merge(portfolio_conventional_ret, portfolio_residual_ret, how='inner', on=['YearMonth'])"
   ]
  },
  {
   "cell_type": "code",
   "execution_count": 66,
   "metadata": {
    "scrolled": true
   },
   "outputs": [
    {
     "data": {
      "text/html": [
       "<div>\n",
       "<style scoped>\n",
       "    .dataframe tbody tr th:only-of-type {\n",
       "        vertical-align: middle;\n",
       "    }\n",
       "\n",
       "    .dataframe tbody tr th {\n",
       "        vertical-align: top;\n",
       "    }\n",
       "\n",
       "    .dataframe thead th {\n",
       "        text-align: right;\n",
       "    }\n",
       "</style>\n",
       "<table border=\"1\" class=\"dataframe\">\n",
       "  <thead>\n",
       "    <tr style=\"text-align: right;\">\n",
       "      <th></th>\n",
       "      <th>conv_ret</th>\n",
       "      <th>res_ret</th>\n",
       "      <th>cov_ret</th>\n",
       "      <th>red_ret</th>\n",
       "    </tr>\n",
       "    <tr>\n",
       "      <th>YearMonth</th>\n",
       "      <th></th>\n",
       "      <th></th>\n",
       "      <th></th>\n",
       "      <th></th>\n",
       "    </tr>\n",
       "  </thead>\n",
       "  <tbody>\n",
       "    <tr>\n",
       "      <th>192908</th>\n",
       "      <td>-0.026623</td>\n",
       "      <td>-0.001437</td>\n",
       "      <td>0.973377</td>\n",
       "      <td>0.998563</td>\n",
       "    </tr>\n",
       "    <tr>\n",
       "      <th>192909</th>\n",
       "      <td>0.016686</td>\n",
       "      <td>0.021901</td>\n",
       "      <td>1.016686</td>\n",
       "      <td>1.021901</td>\n",
       "    </tr>\n",
       "    <tr>\n",
       "      <th>192910</th>\n",
       "      <td>0.083404</td>\n",
       "      <td>0.108917</td>\n",
       "      <td>1.083404</td>\n",
       "      <td>1.108917</td>\n",
       "    </tr>\n",
       "    <tr>\n",
       "      <th>192911</th>\n",
       "      <td>-0.086365</td>\n",
       "      <td>0.025509</td>\n",
       "      <td>0.913635</td>\n",
       "      <td>1.025509</td>\n",
       "    </tr>\n",
       "    <tr>\n",
       "      <th>192912</th>\n",
       "      <td>0.030368</td>\n",
       "      <td>-0.021257</td>\n",
       "      <td>1.030368</td>\n",
       "      <td>0.978743</td>\n",
       "    </tr>\n",
       "  </tbody>\n",
       "</table>\n",
       "</div>"
      ],
      "text/plain": [
       "           conv_ret   res_ret   cov_ret   red_ret\n",
       "YearMonth                                        \n",
       "192908    -0.026623 -0.001437  0.973377  0.998563\n",
       "192909     0.016686  0.021901  1.016686  1.021901\n",
       "192910     0.083404  0.108917  1.083404  1.108917\n",
       "192911    -0.086365  0.025509  0.913635  1.025509\n",
       "192912     0.030368 -0.021257  1.030368  0.978743"
      ]
     },
     "execution_count": 66,
     "metadata": {},
     "output_type": "execute_result"
    }
   ],
   "source": [
    "df.head()"
   ]
  },
  {
   "cell_type": "code",
   "execution_count": 64,
   "metadata": {},
   "outputs": [],
   "source": [
    "export_csv = df.to_csv ('ff_3_ret.csv', index = True, header=True)"
   ]
  },
  {
   "cell_type": "markdown",
   "metadata": {},
   "source": [
    "### 3 factor: 1926——2010"
   ]
  },
  {
   "cell_type": "code",
   "execution_count": 81,
   "metadata": {},
   "outputs": [],
   "source": [
    "df_2010 = df[df.index < 201101]"
   ]
  },
  {
   "cell_type": "code",
   "execution_count": 82,
   "metadata": {},
   "outputs": [],
   "source": [
    "graph = df_2010.copy()"
   ]
  },
  {
   "cell_type": "code",
   "execution_count": 83,
   "metadata": {},
   "outputs": [],
   "source": [
    "graph['cov_ret'] = graph['conv_ret'] + 1\n",
    "graph['red_ret'] = graph['res_ret'] + 1\n",
    "graph_output = graph.cumprod()\n",
    "graph_output['YearMonth'] = graph.index\n",
    "graph = graph_output\n",
    "graph['date'] = pd.to_datetime(graph['YearMonth'], format='%Y%m')\n",
    "graph = graph.drop('YearMonth', 1)"
   ]
  },
  {
   "cell_type": "code",
   "execution_count": 84,
   "metadata": {},
   "outputs": [
    {
     "name": "stderr",
     "output_type": "stream",
     "text": [
      "/Users/zhikang/anaconda3/lib/python3.7/site-packages/ipykernel_launcher.py:2: SettingWithCopyWarning: \n",
      "A value is trying to be set on a copy of a slice from a DataFrame.\n",
      "Try using .loc[row_indexer,col_indexer] = value instead\n",
      "\n",
      "See the caveats in the documentation: http://pandas.pydata.org/pandas-docs/stable/indexing.html#indexing-view-versus-copy\n",
      "  \n",
      "/Users/zhikang/anaconda3/lib/python3.7/site-packages/ipykernel_launcher.py:4: SettingWithCopyWarning: \n",
      "A value is trying to be set on a copy of a slice from a DataFrame.\n",
      "Try using .loc[row_indexer,col_indexer] = value instead\n",
      "\n",
      "See the caveats in the documentation: http://pandas.pydata.org/pandas-docs/stable/indexing.html#indexing-view-versus-copy\n",
      "  after removing the cwd from sys.path.\n"
     ]
    }
   ],
   "source": [
    "graph_1 = graph[['date','cov_ret']]\n",
    "graph_1['return type'] = \"conventional_return\"\n",
    "graph_2 = graph[['date','red_ret']]\n",
    "graph_2['return type'] = \"residual_return\"\n",
    "graph_1 = graph_1.rename(columns = {'cov_ret':'return'})\n",
    "graph_2 = graph_2.rename(columns = {'red_ret':'return'})\n",
    "final_graph = pd.concat([graph_1, graph_2],ignore_index=True)"
   ]
  },
  {
   "cell_type": "code",
   "execution_count": 86,
   "metadata": {
    "scrolled": true
   },
   "outputs": [
    {
     "data": {
      "image/png": "[encoded data removed]",
      "text/plain": [
       "<Figure size 1152x648 with 1 Axes>"
      ]
     },
     "metadata": {
      "needs_background": "light"
     },
     "output_type": "display_data"
    }
   ],
   "source": [
    "plt.figure(figsize = (16,9))\n",
    "ax = sns.lineplot(x='date', y=\"return\", hue=\"return type\",  style=\"return type\", data=final_graph)\n",
    "plt.title('F-F 3-Factor Cummulative Portfolio Returns from 1926 to 2010')\n",
    "ax.set(yscale=\"log\")\n",
    "# plt.show()\n",
    "# plt.ylim=(-1000, 17000)\n",
    "plt.savefig('3_factor_cum_ret_1926_2010.png')"
   ]
  },
  {
   "cell_type": "markdown",
   "metadata": {},
   "source": [
    "### FF3: stats from 1926 to 2010"
   ]
  },
  {
   "cell_type": "code",
   "execution_count": 87,
   "metadata": {},
   "outputs": [],
   "source": [
    "FF_3_port_return = df_2010"
   ]
  },
  {
   "cell_type": "code",
   "execution_count": 93,
   "metadata": {},
   "outputs": [
    {
     "name": "stderr",
     "output_type": "stream",
     "text": [
      "/Users/zhikang/anaconda3/lib/python3.7/site-packages/ipykernel_launcher.py:1: SettingWithCopyWarning: \n",
      "A value is trying to be set on a copy of a slice from a DataFrame.\n",
      "Try using .loc[row_indexer,col_indexer] = value instead\n",
      "\n",
      "See the caveats in the documentation: http://pandas.pydata.org/pandas-docs/stable/indexing.html#indexing-view-versus-copy\n",
      "  \"\"\"Entry point for launching an IPython kernel.\n",
      "/Users/zhikang/anaconda3/lib/python3.7/site-packages/ipykernel_launcher.py:2: SettingWithCopyWarning: \n",
      "A value is trying to be set on a copy of a slice from a DataFrame.\n",
      "Try using .loc[row_indexer,col_indexer] = value instead\n",
      "\n",
      "See the caveats in the documentation: http://pandas.pydata.org/pandas-docs/stable/indexing.html#indexing-view-versus-copy\n",
      "  \n"
     ]
    }
   ],
   "source": [
    "FF_3_port_return['cov_ret'] = FF_3_port_return['conv_ret'] + 1\n",
    "FF_3_port_return['red_ret'] = FF_3_port_return['res_ret'] + 1\n",
    "FF_3_cov_ret_geomean = gmean(FF_3_port_return.loc[:,'cov_ret'])\n",
    "FF_3_res_ret_geomean = gmean(FF_3_port_return.loc[:,'red_ret'])\n",
    "FF_3_ann_cov_ret = FF_3_cov_ret_geomean**12-1\n",
    "FF_3_ann_res_ret = FF_3_res_ret_geomean**12-1\n",
    "\n",
    "FF_3_cov_ret_std = std(FF_3_port_return.loc[:,'cov_ret'])\n",
    "FF_3_res_ret_std = std(FF_3_port_return.loc[:,'red_ret'])\n",
    "FF_3_ann_cov_std = FF_3_cov_ret_std*math.sqrt(12)\n",
    "FF_3_ann_res_std = FF_3_res_ret_std*math.sqrt(12)"
   ]
  },
  {
   "cell_type": "code",
   "execution_count": 94,
   "metadata": {},
   "outputs": [
    {
     "data": {
      "text/plain": [
       "1.0080339168896897"
      ]
     },
     "execution_count": 94,
     "metadata": {},
     "output_type": "execute_result"
    }
   ],
   "source": [
    "FF_3_cov_ret_geomean"
   ]
  },
  {
   "cell_type": "code",
   "execution_count": 95,
   "metadata": {},
   "outputs": [
    {
     "data": {
      "text/plain": [
       "1.0097302254360006"
      ]
     },
     "execution_count": 95,
     "metadata": {},
     "output_type": "execute_result"
    }
   ],
   "source": [
    "FF_3_res_ret_geomean"
   ]
  },
  {
   "cell_type": "code",
   "execution_count": null,
   "metadata": {},
   "outputs": [],
   "source": []
  },
  {
   "cell_type": "code",
   "execution_count": null,
   "metadata": {},
   "outputs": [],
   "source": []
  },
  {
   "cell_type": "markdown",
   "metadata": {},
   "source": [
    "### 3 factor: 2010——2019"
   ]
  },
  {
   "cell_type": "code",
   "execution_count": 96,
   "metadata": {},
   "outputs": [],
   "source": [
    "df_2019 = df[df.index > 201012]"
   ]
  },
  {
   "cell_type": "code",
   "execution_count": 97,
   "metadata": {},
   "outputs": [],
   "source": [
    "graph = df_2019.copy()"
   ]
  },
  {
   "cell_type": "code",
   "execution_count": 98,
   "metadata": {},
   "outputs": [],
   "source": [
    "graph['cov_ret'] = graph['conv_ret'] + 1\n",
    "graph['red_ret'] = graph['res_ret'] + 1\n",
    "graph_output = graph.cumprod()\n",
    "graph_output['YearMonth'] = graph.index\n",
    "graph = graph_output\n",
    "graph['date'] = pd.to_datetime(graph['YearMonth'], format='%Y%m')\n",
    "graph = graph.drop('YearMonth', 1)"
   ]
  },
  {
   "cell_type": "code",
   "execution_count": 99,
   "metadata": {},
   "outputs": [
    {
     "name": "stderr",
     "output_type": "stream",
     "text": [
      "/Users/zhikang/anaconda3/lib/python3.7/site-packages/ipykernel_launcher.py:2: SettingWithCopyWarning: \n",
      "A value is trying to be set on a copy of a slice from a DataFrame.\n",
      "Try using .loc[row_indexer,col_indexer] = value instead\n",
      "\n",
      "See the caveats in the documentation: http://pandas.pydata.org/pandas-docs/stable/indexing.html#indexing-view-versus-copy\n",
      "  \n",
      "/Users/zhikang/anaconda3/lib/python3.7/site-packages/ipykernel_launcher.py:4: SettingWithCopyWarning: \n",
      "A value is trying to be set on a copy of a slice from a DataFrame.\n",
      "Try using .loc[row_indexer,col_indexer] = value instead\n",
      "\n",
      "See the caveats in the documentation: http://pandas.pydata.org/pandas-docs/stable/indexing.html#indexing-view-versus-copy\n",
      "  after removing the cwd from sys.path.\n"
     ]
    }
   ],
   "source": [
    "graph_1 = graph[['date','cov_ret']]\n",
    "graph_1['return type'] = \"conventional_return\"\n",
    "graph_2 = graph[['date','red_ret']]\n",
    "graph_2['return type'] = \"residual_return\"\n",
    "graph_1 = graph_1.rename(columns = {'cov_ret':'return'})\n",
    "graph_2 = graph_2.rename(columns = {'red_ret':'return'})\n",
    "final_graph = pd.concat([graph_1, graph_2],ignore_index=True)"
   ]
  },
  {
   "cell_type": "code",
   "execution_count": 105,
   "metadata": {},
   "outputs": [
    {
     "data": {
      "image/png": "[encoded data removed]",
      "text/plain": [
       "<Figure size 1152x648 with 1 Axes>"
      ]
     },
     "metadata": {
      "needs_background": "light"
     },
     "output_type": "display_data"
    }
   ],
   "source": [
    "plt.figure(figsize = (16,9))\n",
    "ax = sns.lineplot(x='date', y=\"return\", hue=\"return type\",  style=\"return type\", data=final_graph)\n",
    "plt.title('F-F 3-Factor Cummulative Portfolio Returns since 2010')\n",
    "# ax.set(yscale=\"log\")\n",
    "# plt.show()\n",
    "# plt.ylim=(-1000, 17000)\n",
    "plt.savefig('3_factor_cum_ret_2010_2019.png')"
   ]
  },
  {
   "cell_type": "markdown",
   "metadata": {},
   "source": [
    "### FF3: stats from 2010 to 2019"
   ]
  },
  {
   "cell_type": "code",
   "execution_count": 101,
   "metadata": {},
   "outputs": [],
   "source": [
    "FF_3_port_return = df_2019"
   ]
  },
  {
   "cell_type": "code",
   "execution_count": 102,
   "metadata": {},
   "outputs": [
    {
     "name": "stderr",
     "output_type": "stream",
     "text": [
      "/Users/zhikang/anaconda3/lib/python3.7/site-packages/ipykernel_launcher.py:1: SettingWithCopyWarning: \n",
      "A value is trying to be set on a copy of a slice from a DataFrame.\n",
      "Try using .loc[row_indexer,col_indexer] = value instead\n",
      "\n",
      "See the caveats in the documentation: http://pandas.pydata.org/pandas-docs/stable/indexing.html#indexing-view-versus-copy\n",
      "  \"\"\"Entry point for launching an IPython kernel.\n",
      "/Users/zhikang/anaconda3/lib/python3.7/site-packages/ipykernel_launcher.py:2: SettingWithCopyWarning: \n",
      "A value is trying to be set on a copy of a slice from a DataFrame.\n",
      "Try using .loc[row_indexer,col_indexer] = value instead\n",
      "\n",
      "See the caveats in the documentation: http://pandas.pydata.org/pandas-docs/stable/indexing.html#indexing-view-versus-copy\n",
      "  \n"
     ]
    }
   ],
   "source": [
    "FF_3_port_return['cov_ret'] = FF_3_port_return['conv_ret'] + 1\n",
    "FF_3_port_return['red_ret'] = FF_3_port_return['res_ret'] + 1\n",
    "FF_3_cov_ret_geomean = gmean(FF_3_port_return.loc[:,'cov_ret'])\n",
    "FF_3_res_ret_geomean = gmean(FF_3_port_return.loc[:,'red_ret'])\n",
    "FF_3_ann_cov_ret = FF_3_cov_ret_geomean**12-1\n",
    "FF_3_ann_res_ret = FF_3_res_ret_geomean**12-1\n",
    "\n",
    "FF_3_cov_ret_std = std(FF_3_port_return.loc[:,'cov_ret'])\n",
    "FF_3_res_ret_std = std(FF_3_port_return.loc[:,'red_ret'])\n",
    "FF_3_ann_cov_std = FF_3_cov_ret_std*math.sqrt(12)\n",
    "FF_3_ann_res_std = FF_3_res_ret_std*math.sqrt(12)"
   ]
  },
  {
   "cell_type": "code",
   "execution_count": 103,
   "metadata": {},
   "outputs": [
    {
     "data": {
      "text/plain": [
       "1.003021885398517"
      ]
     },
     "execution_count": 103,
     "metadata": {},
     "output_type": "execute_result"
    }
   ],
   "source": [
    "FF_3_cov_ret_geomean"
   ]
  },
  {
   "cell_type": "code",
   "execution_count": 104,
   "metadata": {},
   "outputs": [
    {
     "data": {
      "text/plain": [
       "1.0023345431422486"
      ]
     },
     "execution_count": 104,
     "metadata": {},
     "output_type": "execute_result"
    }
   ],
   "source": [
    "FF_3_res_ret_geomean"
   ]
  },
  {
   "cell_type": "code",
   "execution_count": null,
   "metadata": {},
   "outputs": [],
   "source": []
  },
  {
   "cell_type": "code",
   "execution_count": null,
   "metadata": {},
   "outputs": [],
   "source": []
  },
  {
   "cell_type": "markdown",
   "metadata": {},
   "source": [
    "## statistics from 1926 to 2019"
   ]
  },
  {
   "cell_type": "code",
   "execution_count": 57,
   "metadata": {},
   "outputs": [],
   "source": [
    "FF_3_port_return = df"
   ]
  },
  {
   "cell_type": "code",
   "execution_count": 58,
   "metadata": {},
   "outputs": [
    {
     "data": {
      "text/html": [
       "<div>\n",
       "<style scoped>\n",
       "    .dataframe tbody tr th:only-of-type {\n",
       "        vertical-align: middle;\n",
       "    }\n",
       "\n",
       "    .dataframe tbody tr th {\n",
       "        vertical-align: top;\n",
       "    }\n",
       "\n",
       "    .dataframe thead th {\n",
       "        text-align: right;\n",
       "    }\n",
       "</style>\n",
       "<table border=\"1\" class=\"dataframe\">\n",
       "  <thead>\n",
       "    <tr style=\"text-align: right;\">\n",
       "      <th></th>\n",
       "      <th>conv_ret</th>\n",
       "      <th>res_ret</th>\n",
       "    </tr>\n",
       "    <tr>\n",
       "      <th>YearMonth</th>\n",
       "      <th></th>\n",
       "      <th></th>\n",
       "    </tr>\n",
       "  </thead>\n",
       "  <tbody>\n",
       "    <tr>\n",
       "      <th>192908</th>\n",
       "      <td>-0.026623</td>\n",
       "      <td>-0.001437</td>\n",
       "    </tr>\n",
       "    <tr>\n",
       "      <th>192909</th>\n",
       "      <td>0.016686</td>\n",
       "      <td>0.021901</td>\n",
       "    </tr>\n",
       "    <tr>\n",
       "      <th>192910</th>\n",
       "      <td>0.083404</td>\n",
       "      <td>0.108917</td>\n",
       "    </tr>\n",
       "    <tr>\n",
       "      <th>192911</th>\n",
       "      <td>-0.086365</td>\n",
       "      <td>0.025509</td>\n",
       "    </tr>\n",
       "    <tr>\n",
       "      <th>192912</th>\n",
       "      <td>0.030368</td>\n",
       "      <td>-0.021257</td>\n",
       "    </tr>\n",
       "  </tbody>\n",
       "</table>\n",
       "</div>"
      ],
      "text/plain": [
       "           conv_ret   res_ret\n",
       "YearMonth                    \n",
       "192908    -0.026623 -0.001437\n",
       "192909     0.016686  0.021901\n",
       "192910     0.083404  0.108917\n",
       "192911    -0.086365  0.025509\n",
       "192912     0.030368 -0.021257"
      ]
     },
     "execution_count": 58,
     "metadata": {},
     "output_type": "execute_result"
    }
   ],
   "source": [
    "FF_3_port_return.head()"
   ]
  },
  {
   "cell_type": "markdown",
   "metadata": {},
   "source": [
    "### annualized return"
   ]
  },
  {
   "cell_type": "code",
   "execution_count": 59,
   "metadata": {},
   "outputs": [],
   "source": [
    "FF_3_port_return['cov_ret'] = FF_3_port_return['conv_ret'] + 1\n",
    "FF_3_port_return['red_ret'] = FF_3_port_return['res_ret'] + 1\n",
    "FF_3_cov_ret_geomean = gmean(FF_3_port_return.loc[:,'cov_ret'])\n",
    "FF_3_res_ret_geomean = gmean(FF_3_port_return.loc[:,'red_ret'])\n",
    "FF_3_ann_cov_ret = FF_3_cov_ret_geomean**12-1\n",
    "FF_3_ann_res_ret = FF_3_res_ret_geomean**12-1"
   ]
  },
  {
   "cell_type": "code",
   "execution_count": 62,
   "metadata": {},
   "outputs": [
    {
     "data": {
      "text/plain": [
       "1.007559049745476"
      ]
     },
     "execution_count": 62,
     "metadata": {},
     "output_type": "execute_result"
    }
   ],
   "source": [
    "FF_3_cov_ret_geomean"
   ]
  },
  {
   "cell_type": "code",
   "execution_count": 63,
   "metadata": {},
   "outputs": [
    {
     "data": {
      "text/plain": [
       "1.0090287678285743"
      ]
     },
     "execution_count": 63,
     "metadata": {},
     "output_type": "execute_result"
    }
   ],
   "source": [
    "FF_3_res_ret_geomean"
   ]
  },
  {
   "cell_type": "markdown",
   "metadata": {},
   "source": [
    "### std"
   ]
  },
  {
   "cell_type": "code",
   "execution_count": null,
   "metadata": {},
   "outputs": [],
   "source": [
    "FF_3_cov_ret_std = std(FF_3_port_return.loc[:,'cov_ret'])\n",
    "FF_3_res_ret_std = std(FF_3_port_return.loc[:,'red_ret'])\n",
    "FF_3_ann_cov_std = FF_3_cov_ret_std*math.sqrt(12)\n",
    "FF_3_ann_res_std = FF_3_res_ret_std*math.sqrt(12)"
   ]
  },
  {
   "cell_type": "code",
   "execution_count": null,
   "metadata": {},
   "outputs": [],
   "source": []
  },
  {
   "cell_type": "code",
   "execution_count": null,
   "metadata": {},
   "outputs": [],
   "source": []
  },
  {
   "cell_type": "code",
   "execution_count": null,
   "metadata": {},
   "outputs": [],
   "source": []
  },
  {
   "cell_type": "code",
   "execution_count": null,
   "metadata": {},
   "outputs": [],
   "source": []
  },
  {
   "cell_type": "markdown",
   "metadata": {},
   "source": [
    "## 3-factor vs. 5-factor (1966-2019)"
   ]
  },
  {
   "cell_type": "code",
   "execution_count": 169,
   "metadata": {},
   "outputs": [],
   "source": [
    "combine = pd.read_csv('further_test_output.csv')\n",
    "combine = combine.rename(columns = {\"conv_weight\": \"weight\"})\n",
    "combine['conv_ret'] = combine['RET']*combine['weight']\n",
    "combine['res_ret'] = combine['RET']*combine['residual_weight']\n",
    "portfolio_conventional_ret=pd.DataFrame(combine.groupby('YearMonth').sum(axis='conv_ret')[\"conv_ret\"])\n",
    "portfolio_residual_ret=pd.DataFrame(combine.groupby('YearMonth').sum(axis='res_ret')[\"res_ret\"])\n",
    "portfolio_conventional_ret = -1*portfolio_conventional_ret\n",
    "portfolio_residual_ret = -1* portfolio_residual_ret\n",
    "df = pd.merge(portfolio_conventional_ret, portfolio_residual_ret, how='inner', on=['YearMonth'])"
   ]
  },
  {
   "cell_type": "code",
   "execution_count": 170,
   "metadata": {},
   "outputs": [],
   "source": [
    "FF_3_port_return = df[df.index > 196607]"
   ]
  },
  {
   "cell_type": "code",
   "execution_count": 172,
   "metadata": {
    "scrolled": false
   },
   "outputs": [],
   "source": [
    "combine = pd.read_csv('5_factor_further_test_output.csv')"
   ]
  },
  {
   "cell_type": "code",
   "execution_count": 173,
   "metadata": {},
   "outputs": [],
   "source": [
    "combine = combine.rename(columns = {\"conv_weight\": \"weight\"})\n",
    "combine['conv_ret'] = combine['RET']*combine['weight']\n",
    "combine['res_ret'] = combine['RET']*combine['residual_weight']\n",
    "portfolio_conventional_ret=pd.DataFrame(combine.groupby('YearMonth').sum(axis='conv_ret')[\"conv_ret\"])\n",
    "portfolio_residual_ret=pd.DataFrame(combine.groupby('YearMonth').sum(axis='res_ret')[\"res_ret\"])\n",
    "portfolio_conventional_ret = -1*portfolio_conventional_ret\n",
    "portfolio_residual_ret = -1* portfolio_residual_ret\n",
    "FF_5_port_return = pd.merge(portfolio_conventional_ret, portfolio_residual_ret, how='inner', on=['YearMonth'])"
   ]
  },
  {
   "cell_type": "code",
   "execution_count": 124,
   "metadata": {
    "scrolled": true
   },
   "outputs": [],
   "source": [
    "export_csv = df.to_csv ('ff_5_ret.csv', index = True, header=True)"
   ]
  },
  {
   "cell_type": "code",
   "execution_count": 174,
   "metadata": {},
   "outputs": [],
   "source": [
    "FF_5_port_return = FF_5_port_return.rename(columns = {'res_ret': \"res_ret_5\"})\n",
    "FF_3_port_return = FF_3_port_return.rename(columns = {'res_ret': \"res_ret_3\"})\n",
    "df_all = pd.merge(FF_5_port_return, FF_3_port_return, how='inner', on=['YearMonth'])\n",
    "df_all = df_all.drop('conv_ret_x', 1)\n",
    "df_all = df_all.drop('conv_ret_y', 1)"
   ]
  },
  {
   "cell_type": "code",
   "execution_count": 175,
   "metadata": {
    "scrolled": true
   },
   "outputs": [
    {
     "data": {
      "text/html": [
       "<div>\n",
       "<style scoped>\n",
       "    .dataframe tbody tr th:only-of-type {\n",
       "        vertical-align: middle;\n",
       "    }\n",
       "\n",
       "    .dataframe tbody tr th {\n",
       "        vertical-align: top;\n",
       "    }\n",
       "\n",
       "    .dataframe thead th {\n",
       "        text-align: right;\n",
       "    }\n",
       "</style>\n",
       "<table border=\"1\" class=\"dataframe\">\n",
       "  <thead>\n",
       "    <tr style=\"text-align: right;\">\n",
       "      <th></th>\n",
       "      <th>res_ret_5</th>\n",
       "      <th>res_ret_3</th>\n",
       "    </tr>\n",
       "    <tr>\n",
       "      <th>YearMonth</th>\n",
       "      <th></th>\n",
       "      <th></th>\n",
       "    </tr>\n",
       "  </thead>\n",
       "  <tbody>\n",
       "    <tr>\n",
       "      <th>196608</th>\n",
       "      <td>0.012647</td>\n",
       "      <td>0.014430</td>\n",
       "    </tr>\n",
       "    <tr>\n",
       "      <th>196609</th>\n",
       "      <td>0.039937</td>\n",
       "      <td>0.042682</td>\n",
       "    </tr>\n",
       "    <tr>\n",
       "      <th>196610</th>\n",
       "      <td>-0.010997</td>\n",
       "      <td>-0.023956</td>\n",
       "    </tr>\n",
       "    <tr>\n",
       "      <th>196611</th>\n",
       "      <td>0.025132</td>\n",
       "      <td>0.033064</td>\n",
       "    </tr>\n",
       "    <tr>\n",
       "      <th>196612</th>\n",
       "      <td>0.006454</td>\n",
       "      <td>0.003750</td>\n",
       "    </tr>\n",
       "  </tbody>\n",
       "</table>\n",
       "</div>"
      ],
      "text/plain": [
       "           res_ret_5  res_ret_3\n",
       "YearMonth                      \n",
       "196608      0.012647   0.014430\n",
       "196609      0.039937   0.042682\n",
       "196610     -0.010997  -0.023956\n",
       "196611      0.025132   0.033064\n",
       "196612      0.006454   0.003750"
      ]
     },
     "execution_count": 175,
     "metadata": {},
     "output_type": "execute_result"
    }
   ],
   "source": [
    "df_all.head()"
   ]
  },
  {
   "cell_type": "code",
   "execution_count": 176,
   "metadata": {
    "scrolled": true
   },
   "outputs": [],
   "source": [
    "graph = df_all.copy()\n",
    "graph['res_ret_5'] = graph['res_ret_5'] + 1\n",
    "graph['res_ret_3'] = graph['res_ret_3'] + 1\n",
    "graph_output = graph.cumprod()\n",
    "graph_output['YearMonth'] = graph.index"
   ]
  },
  {
   "cell_type": "code",
   "execution_count": 177,
   "metadata": {
    "scrolled": true
   },
   "outputs": [],
   "source": [
    "graph = graph_output.copy()\n",
    "graph['date'] = pd.to_datetime(graph['YearMonth'], format='%Y%m')\n",
    "graph = graph.drop('YearMonth', 1)"
   ]
  },
  {
   "cell_type": "code",
   "execution_count": 178,
   "metadata": {},
   "outputs": [],
   "source": [
    "graph_1 = graph[['date','res_ret_3']]\n",
    "graph_1['model type'] = \"FF3\"\n",
    "graph_2 = graph[['date','res_ret_5']]\n",
    "graph_2['model type'] = \"FF5\""
   ]
  },
  {
   "cell_type": "code",
   "execution_count": 181,
   "metadata": {},
   "outputs": [],
   "source": [
    "graph_1 = graph_1.rename(columns = {'res_ret_3':'return'})\n",
    "graph_2 = graph_2.rename(columns = {'res_ret_5':'return'})"
   ]
  },
  {
   "cell_type": "code",
   "execution_count": 182,
   "metadata": {},
   "outputs": [],
   "source": [
    "final_graph = pd.concat([graph_1, graph_2],ignore_index=True)"
   ]
  },
  {
   "cell_type": "code",
   "execution_count": 214,
   "metadata": {},
   "outputs": [
    {
     "data": {
      "text/html": [
       "<div>\n",
       "<style scoped>\n",
       "    .dataframe tbody tr th:only-of-type {\n",
       "        vertical-align: middle;\n",
       "    }\n",
       "\n",
       "    .dataframe tbody tr th {\n",
       "        vertical-align: top;\n",
       "    }\n",
       "\n",
       "    .dataframe thead th {\n",
       "        text-align: right;\n",
       "    }\n",
       "</style>\n",
       "<table border=\"1\" class=\"dataframe\">\n",
       "  <thead>\n",
       "    <tr style=\"text-align: right;\">\n",
       "      <th></th>\n",
       "      <th>date</th>\n",
       "      <th>return</th>\n",
       "      <th>model type</th>\n",
       "    </tr>\n",
       "  </thead>\n",
       "  <tbody>\n",
       "    <tr>\n",
       "      <th>0</th>\n",
       "      <td>1966-08-01</td>\n",
       "      <td>1.014430</td>\n",
       "      <td>FF3</td>\n",
       "    </tr>\n",
       "    <tr>\n",
       "      <th>1</th>\n",
       "      <td>1966-09-01</td>\n",
       "      <td>1.057728</td>\n",
       "      <td>FF3</td>\n",
       "    </tr>\n",
       "    <tr>\n",
       "      <th>2</th>\n",
       "      <td>1966-10-01</td>\n",
       "      <td>1.032389</td>\n",
       "      <td>FF3</td>\n",
       "    </tr>\n",
       "    <tr>\n",
       "      <th>3</th>\n",
       "      <td>1966-11-01</td>\n",
       "      <td>1.066524</td>\n",
       "      <td>FF3</td>\n",
       "    </tr>\n",
       "    <tr>\n",
       "      <th>4</th>\n",
       "      <td>1966-12-01</td>\n",
       "      <td>1.070523</td>\n",
       "      <td>FF3</td>\n",
       "    </tr>\n",
       "  </tbody>\n",
       "</table>\n",
       "</div>"
      ],
      "text/plain": [
       "        date    return model type\n",
       "0 1966-08-01  1.014430        FF3\n",
       "1 1966-09-01  1.057728        FF3\n",
       "2 1966-10-01  1.032389        FF3\n",
       "3 1966-11-01  1.066524        FF3\n",
       "4 1966-12-01  1.070523        FF3"
      ]
     },
     "execution_count": 214,
     "metadata": {},
     "output_type": "execute_result"
    }
   ],
   "source": [
    "final_graph.head()"
   ]
  },
  {
   "cell_type": "code",
   "execution_count": 186,
   "metadata": {
    "scrolled": false
   },
   "outputs": [
    {
     "data": {
      "image/png": "[encoded data removed]",
      "text/plain": [
       "<Figure size 1152x648 with 1 Axes>"
      ]
     },
     "metadata": {
      "needs_background": "light"
     },
     "output_type": "display_data"
    }
   ],
   "source": [
    "plt.figure(figsize = (16,9))\n",
    "ax = sns.lineplot(x='date', y=\"return\", hue=\"model type\",  style=\"model type\", data=final_graph)\n",
    "plt.title('FF3 vs. FF 5 Cummulative Portfolio Residual Returns since 196607')\n",
    "# ax.set(yscale=\"log\")\n",
    "# plt.ylim=(-1000, 17000)\n",
    "plt.savefig('FF3_vs_FF5.png')"
   ]
  },
  {
   "cell_type": "code",
   "execution_count": 217,
   "metadata": {
    "scrolled": false
   },
   "outputs": [
    {
     "data": {
      "text/html": [
       "<div>\n",
       "<style scoped>\n",
       "    .dataframe tbody tr th:only-of-type {\n",
       "        vertical-align: middle;\n",
       "    }\n",
       "\n",
       "    .dataframe tbody tr th {\n",
       "        vertical-align: top;\n",
       "    }\n",
       "\n",
       "    .dataframe thead th {\n",
       "        text-align: right;\n",
       "    }\n",
       "</style>\n",
       "<table border=\"1\" class=\"dataframe\">\n",
       "  <thead>\n",
       "    <tr style=\"text-align: right;\">\n",
       "      <th></th>\n",
       "      <th>conv_ret</th>\n",
       "      <th>res_ret_3</th>\n",
       "      <th>cov_ret</th>\n",
       "      <th>red_ret</th>\n",
       "    </tr>\n",
       "    <tr>\n",
       "      <th>YearMonth</th>\n",
       "      <th></th>\n",
       "      <th></th>\n",
       "      <th></th>\n",
       "      <th></th>\n",
       "    </tr>\n",
       "  </thead>\n",
       "  <tbody>\n",
       "    <tr>\n",
       "      <th>196608</th>\n",
       "      <td>0.015827</td>\n",
       "      <td>0.014430</td>\n",
       "      <td>1.015827</td>\n",
       "      <td>1.014430</td>\n",
       "    </tr>\n",
       "    <tr>\n",
       "      <th>196609</th>\n",
       "      <td>0.011714</td>\n",
       "      <td>0.042682</td>\n",
       "      <td>1.011714</td>\n",
       "      <td>1.042682</td>\n",
       "    </tr>\n",
       "    <tr>\n",
       "      <th>196610</th>\n",
       "      <td>-0.023093</td>\n",
       "      <td>-0.023956</td>\n",
       "      <td>0.976907</td>\n",
       "      <td>0.976044</td>\n",
       "    </tr>\n",
       "    <tr>\n",
       "      <th>196611</th>\n",
       "      <td>0.077091</td>\n",
       "      <td>0.033064</td>\n",
       "      <td>1.077091</td>\n",
       "      <td>1.033064</td>\n",
       "    </tr>\n",
       "    <tr>\n",
       "      <th>196612</th>\n",
       "      <td>0.002627</td>\n",
       "      <td>0.003750</td>\n",
       "      <td>1.002627</td>\n",
       "      <td>1.003750</td>\n",
       "    </tr>\n",
       "  </tbody>\n",
       "</table>\n",
       "</div>"
      ],
      "text/plain": [
       "           conv_ret  res_ret_3   cov_ret   red_ret\n",
       "YearMonth                                         \n",
       "196608     0.015827   0.014430  1.015827  1.014430\n",
       "196609     0.011714   0.042682  1.011714  1.042682\n",
       "196610    -0.023093  -0.023956  0.976907  0.976044\n",
       "196611     0.077091   0.033064  1.077091  1.033064\n",
       "196612     0.002627   0.003750  1.002627  1.003750"
      ]
     },
     "execution_count": 217,
     "metadata": {},
     "output_type": "execute_result"
    }
   ],
   "source": [
    "FF_3_port_return.head()"
   ]
  },
  {
   "cell_type": "code",
   "execution_count": 218,
   "metadata": {},
   "outputs": [],
   "source": [
    "FF_3_port_return['cov_ret'] = FF_3_port_return['conv_ret'] + 1\n",
    "FF_3_port_return['red_ret'] = FF_3_port_return['res_ret_3'] + 1"
   ]
  },
  {
   "cell_type": "code",
   "execution_count": 219,
   "metadata": {
    "scrolled": true
   },
   "outputs": [],
   "source": [
    "FF_3_cov_ret_geomean = gmean(FF_3_port_return.loc[:,'cov_ret'])\n",
    "FF_3_res_ret_geomean = gmean(FF_3_port_return.loc[:,'red_ret'])\n",
    "FF_3_ann_cov_ret = FF_3_cov_ret_geomean**12-1\n",
    "FF_3_ann_res_ret = FF_3_res_ret_geomean**12-1"
   ]
  },
  {
   "cell_type": "code",
   "execution_count": 220,
   "metadata": {
    "scrolled": true
   },
   "outputs": [
    {
     "data": {
      "text/plain": [
       "0.08089066872600914"
      ]
     },
     "execution_count": 220,
     "metadata": {},
     "output_type": "execute_result"
    }
   ],
   "source": [
    "FF_3_ann_cov_ret"
   ]
  },
  {
   "cell_type": "code",
   "execution_count": 221,
   "metadata": {},
   "outputs": [
    {
     "data": {
      "text/plain": [
       "0.09999362545645973"
      ]
     },
     "execution_count": 221,
     "metadata": {},
     "output_type": "execute_result"
    }
   ],
   "source": [
    "FF_3_ann_res_ret"
   ]
  },
  {
   "cell_type": "code",
   "execution_count": 222,
   "metadata": {},
   "outputs": [],
   "source": [
    "FF_3_cov_ret_std = std(FF_3_port_return.loc[:,'cov_ret'])\n",
    "FF_3_res_ret_std = std(FF_3_port_return.loc[:,'red_ret'])\n",
    "FF_3_ann_cov_std = FF_3_cov_ret_std*math.sqrt(12)\n",
    "FF_3_ann_res_std = FF_3_res_ret_std*math.sqrt(12)"
   ]
  },
  {
   "cell_type": "code",
   "execution_count": 223,
   "metadata": {},
   "outputs": [
    {
     "data": {
      "text/plain": [
       "0.10954741068075156"
      ]
     },
     "execution_count": 223,
     "metadata": {},
     "output_type": "execute_result"
    }
   ],
   "source": [
    "FF_3_ann_cov_std"
   ]
  },
  {
   "cell_type": "code",
   "execution_count": 224,
   "metadata": {},
   "outputs": [],
   "source": [
    "FF_5 = pd.read_csv('F-F_5.csv')\n",
    "gmean(FF_5_port_return.loc[:,'cov_ret'])\n",
    "Rf = FF_5['RF']/100\n",
    "Rf = gmean(Rf)\n",
    "ann_rf = (1+Rf)**12-1\n",
    "FF_3_cov_sharpe = (FF_3_ann_cov_ret - ann_rf)/FF_3_ann_cov_std\n",
    "FF_3_res_sharpe = (FF_3_ann_res_ret - ann_rf)/FF_3_ann_res_std"
   ]
  },
  {
   "cell_type": "code",
   "execution_count": 225,
   "metadata": {
    "scrolled": true
   },
   "outputs": [
    {
     "data": {
      "text/plain": [
       "0.738407856683575"
      ]
     },
     "execution_count": 225,
     "metadata": {},
     "output_type": "execute_result"
    }
   ],
   "source": [
    "FF_3_cov_sharpe"
   ]
  },
  {
   "cell_type": "code",
   "execution_count": 226,
   "metadata": {},
   "outputs": [
    {
     "data": {
      "text/plain": [
       "1.2015425780885955"
      ]
     },
     "execution_count": 226,
     "metadata": {},
     "output_type": "execute_result"
    }
   ],
   "source": [
    "FF_3_res_sharpe"
   ]
  },
  {
   "cell_type": "code",
   "execution_count": 227,
   "metadata": {},
   "outputs": [
    {
     "data": {
      "text/html": [
       "<div>\n",
       "<style scoped>\n",
       "    .dataframe tbody tr th:only-of-type {\n",
       "        vertical-align: middle;\n",
       "    }\n",
       "\n",
       "    .dataframe tbody tr th {\n",
       "        vertical-align: top;\n",
       "    }\n",
       "\n",
       "    .dataframe thead th {\n",
       "        text-align: right;\n",
       "    }\n",
       "</style>\n",
       "<table border=\"1\" class=\"dataframe\">\n",
       "  <thead>\n",
       "    <tr style=\"text-align: right;\">\n",
       "      <th></th>\n",
       "      <th>conv_ret</th>\n",
       "      <th>res_ret_5</th>\n",
       "      <th>cov_ret</th>\n",
       "      <th>red_ret</th>\n",
       "    </tr>\n",
       "    <tr>\n",
       "      <th>YearMonth</th>\n",
       "      <th></th>\n",
       "      <th></th>\n",
       "      <th></th>\n",
       "      <th></th>\n",
       "    </tr>\n",
       "  </thead>\n",
       "  <tbody>\n",
       "    <tr>\n",
       "      <th>196608</th>\n",
       "      <td>0.015827</td>\n",
       "      <td>0.012647</td>\n",
       "      <td>1.015827</td>\n",
       "      <td>1.012647</td>\n",
       "    </tr>\n",
       "    <tr>\n",
       "      <th>196609</th>\n",
       "      <td>0.011714</td>\n",
       "      <td>0.039937</td>\n",
       "      <td>1.011714</td>\n",
       "      <td>1.039937</td>\n",
       "    </tr>\n",
       "    <tr>\n",
       "      <th>196610</th>\n",
       "      <td>-0.023093</td>\n",
       "      <td>-0.010997</td>\n",
       "      <td>0.976907</td>\n",
       "      <td>0.989003</td>\n",
       "    </tr>\n",
       "    <tr>\n",
       "      <th>196611</th>\n",
       "      <td>0.077091</td>\n",
       "      <td>0.025132</td>\n",
       "      <td>1.077091</td>\n",
       "      <td>1.025132</td>\n",
       "    </tr>\n",
       "    <tr>\n",
       "      <th>196612</th>\n",
       "      <td>0.002627</td>\n",
       "      <td>0.006454</td>\n",
       "      <td>1.002627</td>\n",
       "      <td>1.006454</td>\n",
       "    </tr>\n",
       "  </tbody>\n",
       "</table>\n",
       "</div>"
      ],
      "text/plain": [
       "           conv_ret  res_ret_5   cov_ret   red_ret\n",
       "YearMonth                                         \n",
       "196608     0.015827   0.012647  1.015827  1.012647\n",
       "196609     0.011714   0.039937  1.011714  1.039937\n",
       "196610    -0.023093  -0.010997  0.976907  0.989003\n",
       "196611     0.077091   0.025132  1.077091  1.025132\n",
       "196612     0.002627   0.006454  1.002627  1.006454"
      ]
     },
     "execution_count": 227,
     "metadata": {},
     "output_type": "execute_result"
    }
   ],
   "source": [
    "FF_5_port_return.head()"
   ]
  },
  {
   "cell_type": "code",
   "execution_count": 228,
   "metadata": {},
   "outputs": [],
   "source": [
    "FF_5_port_return['cov_ret'] = FF_5_port_return['conv_ret'] + 1\n",
    "FF_5_port_return['red_ret'] = FF_5_port_return['res_ret_5'] + 1\n",
    "FF_5_cov_ret_geomean = gmean(FF_5_port_return.loc[:,'cov_ret'])\n",
    "FF_5_res_ret_geomean = gmean(FF_5_port_return.loc[:,'red_ret'])\n",
    "FF_5_ann_cov_ret = FF_5_cov_ret_geomean**12-1\n",
    "FF_5_ann_res_ret = FF_5_res_ret_geomean**12-1"
   ]
  },
  {
   "cell_type": "code",
   "execution_count": 229,
   "metadata": {},
   "outputs": [],
   "source": [
    "FF_5_cov_ret_std = std(FF_5_port_return.loc[:,'cov_ret'])\n",
    "FF_5_res_ret_std = std(FF_5_port_return.loc[:,'red_ret'])\n",
    "FF_5_ann_cov_std = FF_5_cov_ret_std*math.sqrt(12)\n",
    "FF_5_ann_res_std = FF_5_res_ret_std*math.sqrt(12)"
   ]
  },
  {
   "cell_type": "code",
   "execution_count": 230,
   "metadata": {},
   "outputs": [],
   "source": [
    "FF_5_cov_sharpe = (FF_5_ann_cov_ret - ann_rf)/FF_5_ann_cov_std\n",
    "FF_5_res_sharpe = (FF_5_ann_res_ret - ann_rf)/FF_5_ann_res_std"
   ]
  },
  {
   "cell_type": "code",
   "execution_count": 236,
   "metadata": {
    "scrolled": true
   },
   "outputs": [
    {
     "data": {
      "text/plain": [
       "0.0977764335638478"
      ]
     },
     "execution_count": 236,
     "metadata": {},
     "output_type": "execute_result"
    }
   ],
   "source": [
    "FF_5_ann_res_ret"
   ]
  },
  {
   "cell_type": "code",
   "execution_count": 237,
   "metadata": {},
   "outputs": [
    {
     "data": {
      "text/plain": [
       "0.08089066872600914"
      ]
     },
     "execution_count": 237,
     "metadata": {},
     "output_type": "execute_result"
    }
   ],
   "source": [
    "FF_5_ann_cov_ret"
   ]
  },
  {
   "cell_type": "code",
   "execution_count": 238,
   "metadata": {},
   "outputs": [
    {
     "data": {
      "text/plain": [
       "0.7384078566835749"
      ]
     },
     "execution_count": 238,
     "metadata": {},
     "output_type": "execute_result"
    }
   ],
   "source": [
    "FF_5_cov_sharpe"
   ]
  },
  {
   "cell_type": "code",
   "execution_count": 239,
   "metadata": {},
   "outputs": [
    {
     "data": {
      "text/plain": [
       "1.2161251180333588"
      ]
     },
     "execution_count": 239,
     "metadata": {},
     "output_type": "execute_result"
    }
   ],
   "source": [
    "FF_5_res_sharpe"
   ]
  },
  {
   "cell_type": "code",
   "execution_count": 240,
   "metadata": {},
   "outputs": [],
   "source": [
    "d = {'conventional': [FF_3_cov_sharpe, FF_5_cov_sharpe,FF_3_ann_cov_ret, FF_5_ann_cov_ret,FF_3_ann_cov_std,FF_5_ann_cov_std], \n",
    "     'residual': [FF_3_res_sharpe, FF_5_res_sharpe,FF_3_ann_res_ret,FF_5_ann_res_ret,FF_3_ann_res_std,FF_5_ann_res_std]}"
   ]
  },
  {
   "cell_type": "code",
   "execution_count": 241,
   "metadata": {},
   "outputs": [],
   "source": [
    "sharpe_summary = pd.DataFrame(d)"
   ]
  },
  {
   "cell_type": "code",
   "execution_count": 245,
   "metadata": {},
   "outputs": [],
   "source": [
    "sharpe_summary.index = ['FF3 shapre','FF5 sharpe','FF3 annualized return',\n",
    "                        'FF5 annualized return','FF3 annualized std','FF5 annualized std']"
   ]
  },
  {
   "cell_type": "code",
   "execution_count": 246,
   "metadata": {},
   "outputs": [
    {
     "data": {
      "text/html": [
       "<div>\n",
       "<style scoped>\n",
       "    .dataframe tbody tr th:only-of-type {\n",
       "        vertical-align: middle;\n",
       "    }\n",
       "\n",
       "    .dataframe tbody tr th {\n",
       "        vertical-align: top;\n",
       "    }\n",
       "\n",
       "    .dataframe thead th {\n",
       "        text-align: right;\n",
       "    }\n",
       "</style>\n",
       "<table border=\"1\" class=\"dataframe\">\n",
       "  <thead>\n",
       "    <tr style=\"text-align: right;\">\n",
       "      <th></th>\n",
       "      <th>conventional</th>\n",
       "      <th>residual</th>\n",
       "    </tr>\n",
       "  </thead>\n",
       "  <tbody>\n",
       "    <tr>\n",
       "      <th>FF3 shapre</th>\n",
       "      <td>0.738408</td>\n",
       "      <td>1.201543</td>\n",
       "    </tr>\n",
       "    <tr>\n",
       "      <th>FF5 sharpe</th>\n",
       "      <td>0.738408</td>\n",
       "      <td>1.216125</td>\n",
       "    </tr>\n",
       "    <tr>\n",
       "      <th>FF3 annualized return</th>\n",
       "      <td>0.080891</td>\n",
       "      <td>0.099994</td>\n",
       "    </tr>\n",
       "    <tr>\n",
       "      <th>FF5 annualized return</th>\n",
       "      <td>0.080891</td>\n",
       "      <td>0.097776</td>\n",
       "    </tr>\n",
       "    <tr>\n",
       "      <th>FF3 annualized std</th>\n",
       "      <td>0.109547</td>\n",
       "      <td>0.083221</td>\n",
       "    </tr>\n",
       "    <tr>\n",
       "      <th>FF5 annualized std</th>\n",
       "      <td>0.109547</td>\n",
       "      <td>0.080400</td>\n",
       "    </tr>\n",
       "  </tbody>\n",
       "</table>\n",
       "</div>"
      ],
      "text/plain": [
       "                       conventional  residual\n",
       "FF3 shapre                 0.738408  1.201543\n",
       "FF5 sharpe                 0.738408  1.216125\n",
       "FF3 annualized return      0.080891  0.099994\n",
       "FF5 annualized return      0.080891  0.097776\n",
       "FF3 annualized std         0.109547  0.083221\n",
       "FF5 annualized std         0.109547  0.080400"
      ]
     },
     "execution_count": 246,
     "metadata": {},
     "output_type": "execute_result"
    }
   ],
   "source": [
    "sharpe_summary"
   ]
  },
  {
   "cell_type": "code",
   "execution_count": null,
   "metadata": {},
   "outputs": [],
   "source": []
  },
  {
   "cell_type": "code",
   "execution_count": null,
   "metadata": {},
   "outputs": [],
   "source": []
  }
 ],
 "metadata": {
  "kernelspec": {
   "display_name": "Python 3",
   "language": "python",
   "name": "python3"
  },
  "language_info": {
   "codemirror_mode": {
    "name": "ipython",
    "version": 3
   },
   "file_extension": ".py",
   "mimetype": "text/x-python",
   "name": "python",
   "nbconvert_exporter": "python",
   "pygments_lexer": "ipython3",
   "version": "3.7.1"
  }
 },
 "nbformat": 4,
 "nbformat_minor": 2
}
